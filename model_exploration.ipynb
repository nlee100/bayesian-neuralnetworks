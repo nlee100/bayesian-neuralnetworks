{
  "nbformat": 4,
  "nbformat_minor": 0,
  "metadata": {
    "colab": {
      "name": "model_exploration.ipynb",
      "provenance": [],
      "collapsed_sections": [],
      "authorship_tag": "ABX9TyMy25acq3i88GOpTghR3NtR",
      "include_colab_link": true
    },
    "kernelspec": {
      "name": "ir",
      "display_name": "R"
    },
    "language_info": {
      "name": "R"
    }
  },
  "cells": [
    {
      "cell_type": "markdown",
      "metadata": {
        "id": "view-in-github",
        "colab_type": "text"
      },
      "source": [
        "<a href=\"https://colab.research.google.com/github/nlee100/bayesian-neuralnetworks/blob/main/model_exploration.ipynb\" target=\"_parent\"><img src=\"https://colab.research.google.com/assets/colab-badge.svg\" alt=\"Open In Colab\"/></a>"
      ]
    },
    {
      "cell_type": "markdown",
      "source": [
        "---\n",
        "\n",
        "<table>\n",
        "  <tr>\n",
        "    <th>Title</th>\n",
        "    <th>Model Exploration for PHP 2650 Final Project</th>\n",
        "  </tr>\n",
        "  <tr>\n",
        "    <td>Creator</td>\n",
        "    <td>Naomi Lee</td>\n",
        "  </tr>\n",
        "    <tr>\n",
        "    <td>Content</td>\n",
        "    <td>DNNSurv, BDNNSurv</td>\n",
        "  </tr>\n",
        "  <tr>\n",
        "    <td>Last Updated</td>\n",
        "    <td>April 23, 2022</td>\n",
        "  </tr>\n",
        "</table>\n",
        "\n",
        "---"
      ],
      "metadata": {
        "id": "ymceuNddxYN0"
      }
    },
    {
      "cell_type": "markdown",
      "source": [
        "<h2>DNNSurv</h2>\n",
        "\n",
        "Deep neural network for survival analysis using pseudo values. Keras models in R. Based on work by L. Zhao and D. Feng."
      ],
      "metadata": {
        "id": "WMqaBtDMQIn-"
      }
    },
    {
      "cell_type": "code",
      "execution_count": 2,
      "metadata": {
        "id": "xjj3iqxYNp8X"
      },
      "outputs": [],
      "source": [
        "# neural network with two hidden layers\n",
        "pseudoDNN.train <- function(x_train, y_train){\n",
        "  \n",
        "  model <- keras_model_sequential() %>%\n",
        "    layer_dense(units = 8, kernel_regularizer = regularizer_l2(0.0001), activation = \"tanh\",\n",
        "                input_shape = dim(x_train)[[2]]) %>%\n",
        "    layer_dense(units = 4, kernel_regularizer = regularizer_l2(0.01),\n",
        "                activation = \"tanh\") %>%\n",
        "    layer_dense(units = 1, activation='sigmoid')\n",
        "  \n",
        "  model %>% compile(\n",
        "    optimizer = optimizer_adam(lr = 0.0025),\n",
        "    loss = \"mse\",\n",
        "    metrics = c(\"mae\")\n",
        "  )\n",
        "  model %>% fit(x_train, y_train,\n",
        "                epochs = 30, batch_size = 64,\n",
        "                verbose = 0)\n",
        "  \n",
        "  model\n",
        "}"
      ]
    },
    {
      "cell_type": "code",
      "source": [
        "# neural network with one hidden layer\n",
        "pseudoDNN.train <- function(x_train, y_train){\n",
        "  # use selu instead of relu for some studies\n",
        "  model <- keras_model_sequential() %>%\n",
        "    layer_dense(units=16,  activation = \"selu\",bias_initializer = initializer_constant(0.0),\n",
        "                input_shape = dim(x_train)[[2]]) %>%\n",
        "    layer_dropout(rate = 0.2) %>%\n",
        "    layer_dense(units = 1, activation='sigmoid')\n",
        "  \n",
        "  model %>% compile(\n",
        "    optimizer = optimizer_rmsprop(lr = 0.001),\n",
        "    loss = \"mse\",\n",
        "    metrics = c(\"mae\")\n",
        "  )\n",
        "  model %>% fit(x_train, y_train,\n",
        "                epochs = 1000, batch_size =256,\n",
        "                verbose = 0)\n",
        "  model\n",
        "}"
      ],
      "metadata": {
        "id": "B9PsrZUyNsKQ"
      },
      "execution_count": 21,
      "outputs": []
    },
    {
      "cell_type": "code",
      "source": [
        "# prediction\n",
        "pseudoDNN.predict <- function(model, x_test){\n",
        "  ypred <- model %>% predict(x_test)\n",
        "  ypred\n",
        "}"
      ],
      "metadata": {
        "id": "_Ad1SDbDOPCH"
      },
      "execution_count": 22,
      "outputs": []
    },
    {
      "cell_type": "code",
      "source": [
        "# get pseudo conditional survival probabilities\n",
        "# t = the survival time, d = the censoring indicator\n",
        "# qt = a vector of time points that are used to divide the time interval\n",
        "getPseudoConditional <- function(t, d, qt){\n",
        "  #browser()\n",
        "  s <- c(0, qt)  \n",
        "  n=length(t)\n",
        "  ns=length(s)-1  # the number of intervals\n",
        "  D <- do.call(cbind, lapply(1:ns, function(j)  (s[j] < t) * (t <= s[j+1]) * (d == 1)))\n",
        "  R <- do.call(cbind, lapply(1:ns, function(j) ifelse(s[j] < t, 1, 0)))\n",
        "  Delta<-do.call(cbind, lapply(1:ns, function(j) pmin(t,s[j+1])-s[j]))\n",
        "  \n",
        "  # format into long formate\n",
        "  dd.tmp=cbind.data.frame(id=rep(1:n,ns),s=rep(c(0,qt[-length(qt)]), each=n), y=c(R*Delta),d=c(D))\n",
        "  \n",
        "  dd=dd.tmp[dd.tmp$y>0,]\n",
        "  pseudost=rep(NA, nrow(dd))\n",
        "  for (j in 1:ns){\n",
        "    index= (dd$s==s[j])\n",
        "    dds=dd[index,]\n",
        "    pseudost[index]=pseudosurv(time=dds$y, event=dds$d, tmax=s[j+1]-s[j])$pseudo\n",
        "    print(j)\n",
        "  }\n",
        "  dd$pseudost=pseudost  \n",
        "  \n",
        "  return(dd[,c(1,2,5)])\n",
        "}"
      ],
      "metadata": {
        "id": "kh-DOjn-OURg"
      },
      "execution_count": 23,
      "outputs": []
    },
    {
      "cell_type": "code",
      "source": [
        "rm(list=ls())\n",
        "# install.packages(c(\"keras\",\"pseudo\",\"survivalROC\", \"survival\", \"survAUC\"))\n",
        "\n",
        "# if (!require(\"BiocManager\", quietly = TRUE))\n",
        "#     install.packages(\"BiocManager\")\n",
        "\n",
        "# BiocManager::install(\"survcomp\")\n",
        "\n",
        "library(keras)\n",
        "# install_keras()\n",
        "library(pseudo)\n",
        "library(survivalROC)\n",
        "library(survival)\n",
        "library(survcomp)\n",
        "library(survAUC)"
      ],
      "metadata": {
        "colab": {
          "base_uri": "https://localhost:8080/"
        },
        "id": "-3_MpN3acovn",
        "outputId": "4716f951-8987-4f8d-f047-46513fd70181"
      },
      "execution_count": 18,
      "outputs": [
        {
          "output_type": "stream",
          "name": "stderr",
          "text": [
            "Loading required package: prodlim\n",
            "\n"
          ]
        }
      ]
    },
    {
      "cell_type": "code",
      "source": [
        "# simulate survival data from a cox model with one covariate \n",
        "set.seed(2412)\n",
        "pickTime=c(0.7,1.7,3.2,5.3,8.3)\n",
        "n=2000\n",
        "x=rnorm(n,0,1)\n",
        "c0=0.1\n",
        "times=rexp(n,c0*exp(1*x))  \n",
        "time.censor=rexp(n,c0*exp(1*x)) \n",
        "summary(time.censor)\n",
        "delta=ifelse(times<time.censor, 1, 0)\n",
        "time <- ifelse(times<time.censor, times, time.censor)\n",
        "\n",
        "x_train  <- x[1:(n/2)]\n",
        "surv_train <- time[1:(n/2)]\n",
        "cen_train <- delta[1:(n/2)]\n",
        "\n",
        "# data normalization\n",
        "mean <- apply(as.matrix(x_train), 2, mean)\n",
        "std <- apply(as.matrix(x_train), 2, sd)\n",
        "x_train <- scale(x_train, center = mean, scale = std)\n",
        "\n",
        "# data normalization\n",
        "x_test=x[(n/2+1):n]\n",
        "surv_test <- time[(n/2+1):n]\n",
        "cen_test =delta[(n/2+1):n]\n",
        "x_test<- scale(x_test, center = mean, scale = std)\n",
        "\n",
        "# get the pseudo conditinal survival probability \n",
        "pseudoCond  = getPseudoConditional(surv_train, cen_train, pickTime)\n",
        "\n",
        "# covaraite\n",
        "x <- x_train[pseudoCond$id,]\n",
        "\n",
        "# create dummy variables for the time points\n",
        "smatrix=model.matrix(~as.factor(pseudoCond$s)+0)\n",
        "\n",
        "#create input predictors \n",
        "x_train.all <- cbind(x, smatrix)\n",
        "\n",
        "y_train.all <- pseudoCond$pseudost\n",
        "\n",
        "model = pseudoDNN.train(x_train.all, y_train.all)\n",
        "\n",
        "\n",
        "# format the test data \n",
        "x_test.all=do.call(rbind, replicate(length(pickTime), x_test, simplify=FALSE))\n",
        "s_test=rep(pickTime,each=nrow(x_test))\n",
        "smatrix.test=model.matrix(~as.factor(s_test)+0)\n",
        "x_test.all=cbind(x_test.all,smatrix.test)\n",
        "\n",
        "# predict test data\n",
        "ypred.con <- pseudoDNN.predict(model, x_test.all)\n",
        "\n",
        "# obtain the marginal survival probability by multiple series of conditional probabilities\n",
        "ypred.con <- matrix(ypred.con, nrow=nrow(x_test))\n",
        "ypred <- lapply(1:length(c(0, qt)), function(i) apply(ypred.con[,1:i, drop=FALSE], 1, prod))\n",
        "surv_prob <- Reduce(cbind, ypred)\n",
        "\n",
        "# c-index at time 0.7\n",
        "concordance.index(x=1-surv_prob[,2], surv.time=surv_test, surv.event=cen_test, method=\"noether\")$c.index"
      ],
      "metadata": {
        "colab": {
          "base_uri": "https://localhost:8080/",
          "height": 195
        },
        "id": "BodhOrfSZTKn",
        "outputId": "100cb283-c82d-4e02-f7fb-f2bcac033108"
      },
      "execution_count": 24,
      "outputs": [
        {
          "output_type": "display_data",
          "data": {
            "text/plain": [
              "    Min.  1st Qu.   Median     Mean  3rd Qu.     Max. \n",
              "  0.0019   2.3034   6.5175  16.9276  17.3017 529.2871 "
            ]
          },
          "metadata": {}
        },
        {
          "output_type": "stream",
          "name": "stdout",
          "text": [
            "[1] 1\n",
            "[1] 2\n",
            "[1] 3\n",
            "[1] 4\n",
            "[1] 5\n"
          ]
        },
        {
          "output_type": "stream",
          "name": "stderr",
          "text": [
            "Warning message in backcompat_fix_rename_lr_to_learning_rate(...):\n",
            "“the `lr` argument has been renamed to `learning_rate`.”\n"
          ]
        },
        {
          "output_type": "display_data",
          "data": {
            "text/html": [
              "0.74209196406289"
            ],
            "text/markdown": "0.74209196406289",
            "text/latex": "0.74209196406289",
            "text/plain": [
              "[1] 0.742092"
            ]
          },
          "metadata": {}
        }
      ]
    },
    {
      "cell_type": "markdown",
      "source": [
        "<h2>BDNNSurv</h2>\n",
        "\n",
        "Bayesian heirchical deep neural network for survival analysis using pseudo values. Keras models in python. Based on work by D. Feng and L. Zhao ."
      ],
      "metadata": {
        "id": "lOqL72WFjgZg"
      }
    },
    {
      "cell_type": "markdown",
      "source": [
        "# Relevant Work\n",
        "\n",
        "<ul>\n",
        "  <li>RNN-SURV</li>\n",
        "  <li>DeepSurv</li>\n",
        "</ul> "
      ],
      "metadata": {
        "id": "fyVhC6Qov88C"
      }
    },
    {
      "cell_type": "code",
      "source": [
        ""
      ],
      "metadata": {
        "id": "kFA7rroj13N0"
      },
      "execution_count": null,
      "outputs": []
    }
  ]
}