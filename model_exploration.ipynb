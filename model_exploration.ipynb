{
  "nbformat": 4,
  "nbformat_minor": 0,
  "metadata": {
    "colab": {
      "name": "model_exploration.ipynb",
      "provenance": [],
      "collapsed_sections": [],
      "authorship_tag": "ABX9TyP+CYGxHhg/4TywZwmmhPPR",
      "include_colab_link": true
    },
    "kernelspec": {
      "name": "ir",
      "display_name": "R"
    },
    "language_info": {
      "name": "R"
    }
  },
  "cells": [
    {
      "cell_type": "markdown",
      "metadata": {
        "id": "view-in-github",
        "colab_type": "text"
      },
      "source": [
        "<a href=\"https://colab.research.google.com/github/nlee100/bayesian-neuralnetworks/blob/main/model_exploration.ipynb\" target=\"_parent\"><img src=\"https://colab.research.google.com/assets/colab-badge.svg\" alt=\"Open In Colab\"/></a>"
      ]
    },
    {
      "cell_type": "markdown",
      "source": [
        "DNNsurv: Keras models in R"
      ],
      "metadata": {
        "id": "WMqaBtDMQIn-"
      }
    },
    {
      "cell_type": "code",
      "execution_count": 6,
      "metadata": {
        "id": "xjj3iqxYNp8X"
      },
      "outputs": [],
      "source": [
        "# neural network with two hidden layers\n",
        "pseudoDNN.train <- function(x_train, y_train){\n",
        "  \n",
        "  model <- keras_model_sequential() %>%\n",
        "    layer_dense(units = 8, kernel_regularizer = regularizer_l2(0.0001), activation = \"tanh\",\n",
        "                input_shape = dim(x_train)[[2]]) %>%\n",
        "    layer_dense(units = 4, kernel_regularizer = regularizer_l2(0.01),\n",
        "                activation = \"tanh\") %>%\n",
        "    layer_dense(units = 1, activation='sigmoid')\n",
        "  \n",
        "  model %>% compile(\n",
        "    optimizer = optimizer_adam(lr = 0.0025),\n",
        "    loss = \"mse\",\n",
        "    metrics = c(\"mae\")\n",
        "  )\n",
        "  model %>% fit(x_train, y_train,\n",
        "                epochs = 30, batch_size = 64,\n",
        "                verbose = 0)\n",
        "  \n",
        "  model\n",
        "}"
      ]
    },
    {
      "cell_type": "code",
      "source": [
        "# neural network with one hidden layer\n",
        "pseudoDNN.train <- function(x_train, y_train){\n",
        "  # use selu instead of relu for some studies\n",
        "  model <- keras_model_sequential() %>%\n",
        "    layer_dense(units=16,  activation = \"selu\",bias_initializer = initializer_constant(0.0),\n",
        "                input_shape = dim(x_train)[[2]]) %>%\n",
        "    layer_dropout(rate = 0.2) %>%\n",
        "    layer_dense(units = 1, activation='sigmoid')\n",
        "  \n",
        "  model %>% compile(\n",
        "    optimizer = optimizer_rmsprop(lr = 0.001),\n",
        "    loss = \"mse\",\n",
        "    metrics = c(\"mae\")\n",
        "  )\n",
        "  model %>% fit(x_train, y_train,\n",
        "                epochs = 1000, batch_size =256,\n",
        "                verbose = 0)\n",
        "  model\n",
        "}"
      ],
      "metadata": {
        "id": "B9PsrZUyNsKQ"
      },
      "execution_count": null,
      "outputs": []
    },
    {
      "cell_type": "code",
      "source": [
        "# prediction\n",
        "pseudoDNN.predict <- function(model, x_test){\n",
        "  ypred <- model %>% predict(x_test)\n",
        "  ypred\n",
        "}"
      ],
      "metadata": {
        "id": "_Ad1SDbDOPCH"
      },
      "execution_count": null,
      "outputs": []
    },
    {
      "cell_type": "code",
      "source": [
        "# get pseudo conditional survival probabilities\n",
        "# t = the survival time, d = the censoring indicator\n",
        "# qt = a vector of time points that are used to divide the time interval\n",
        "getPseudoConditional <- function(t, d, qt){\n",
        "  #browser()\n",
        "  s <- c(0, qt)  \n",
        "  n=length(t)\n",
        "  ns=length(s)-1  # the number of intervals\n",
        "  D <- do.call(cbind, lapply(1:ns, function(j)  (s[j] < t) * (t <= s[j+1]) * (d == 1)))\n",
        "  R <- do.call(cbind, lapply(1:ns, function(j) ifelse(s[j] < t, 1, 0)))\n",
        "  Delta<-do.call(cbind, lapply(1:ns, function(j) pmin(t,s[j+1])-s[j]))\n",
        "  \n",
        "  # format into long formate\n",
        "  dd.tmp=cbind.data.frame(id=rep(1:n,ns),s=rep(c(0,qt[-length(qt)]), each=n), y=c(R*Delta),d=c(D))\n",
        "  \n",
        "  dd=dd.tmp[dd.tmp$y>0,]\n",
        "  pseudost=rep(NA, nrow(dd))\n",
        "  for (j in 1:ns){\n",
        "    index= (dd$s==s[j])\n",
        "    dds=dd[index,]\n",
        "    pseudost[index]=pseudosurv(time=dds$y, event=dds$d, tmax=s[j+1]-s[j])$pseudo\n",
        "    print(j)\n",
        "  }\n",
        "  dd$pseudost=pseudost  \n",
        "  \n",
        "  return(dd[,c(1,2,5)])\n",
        "}"
      ],
      "metadata": {
        "id": "kh-DOjn-OURg"
      },
      "execution_count": null,
      "outputs": []
    }
  ]
}