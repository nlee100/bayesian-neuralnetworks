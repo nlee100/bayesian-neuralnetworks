{
  "nbformat": 4,
  "nbformat_minor": 0,
  "metadata": {
    "colab": {
      "name": "model_exploration.ipynb",
      "provenance": [],
      "collapsed_sections": [],
      "authorship_tag": "ABX9TyPrsLs4DXkwwqDOzFab4LcD",
      "include_colab_link": true
    },
    "kernelspec": {
      "name": "ir",
      "display_name": "R"
    },
    "language_info": {
      "name": "R"
    }
  },
  "cells": [
    {
      "cell_type": "markdown",
      "metadata": {
        "id": "view-in-github",
        "colab_type": "text"
      },
      "source": [
        "<a href=\"https://colab.research.google.com/github/nlee100/bayesian-neuralnetworks/blob/main/model_exploration.ipynb\" target=\"_parent\"><img src=\"https://colab.research.google.com/assets/colab-badge.svg\" alt=\"Open In Colab\"/></a>"
      ]
    },
    {
      "cell_type": "code",
      "execution_count": null,
      "metadata": {
        "id": "xjj3iqxYNp8X"
      },
      "outputs": [],
      "source": [
        "pseudoDNN.train <- function(x_train, y_train){\n",
        "  \n",
        "  model <- keras_model_sequential() %>%\n",
        "    layer_dense(units = 8, kernel_regularizer = regularizer_l2(0.0001), activation = \"tanh\",\n",
        "                input_shape = dim(x_train)[[2]]) %>%\n",
        "    layer_dense(units = 4, kernel_regularizer = regularizer_l2(0.01),\n",
        "                activation = \"tanh\") %>%\n",
        "    layer_dense(units = 1, activation='sigmoid')\n",
        "  \n",
        "  model %>% compile(\n",
        "    optimizer = optimizer_adam(lr = 0.0025),\n",
        "    loss = \"mse\",\n",
        "    metrics = c(\"mae\")\n",
        "  )\n",
        "  model %>% fit(x_train, y_train,\n",
        "                epochs = 30, batch_size = 64,\n",
        "                verbose = 0)\n",
        "  \n",
        "  model\n",
        "}\n"
      ]
    },
    {
      "cell_type": "code",
      "source": [
        "pseudoDNN.train <- function(x_train, y_train){\n",
        "  # use selu instead of relu for some studies\n",
        "  model <- keras_model_sequential() %>%\n",
        "    layer_dense(units=16,  activation = \"selu\",bias_initializer = initializer_constant(0.0),\n",
        "                input_shape = dim(x_train)[[2]]) %>%\n",
        "    layer_dropout(rate = 0.2) %>%\n",
        "    layer_dense(units = 1, activation='sigmoid')\n",
        "  \n",
        "  model %>% compile(\n",
        "    optimizer = optimizer_rmsprop(lr = 0.001),\n",
        "    loss = \"mse\",\n",
        "    metrics = c(\"mae\")\n",
        "  )\n",
        "  model %>% fit(x_train, y_train,\n",
        "                epochs = 1000, batch_size =256,\n",
        "                verbose = 0)\n",
        "  model\n",
        "}"
      ],
      "metadata": {
        "id": "B9PsrZUyNsKQ"
      },
      "execution_count": null,
      "outputs": []
    },
    {
      "cell_type": "code",
      "source": [
        "pseudoDNN.predict <- function(model, x_test){\n",
        "  ypred <- model %>% predict(x_test)\n",
        "  ypred\n",
        "}"
      ],
      "metadata": {
        "id": "_Ad1SDbDOPCH"
      },
      "execution_count": null,
      "outputs": []
    },
    {
      "cell_type": "code",
      "source": [
        ""
      ],
      "metadata": {
        "id": "kh-DOjn-OURg"
      },
      "execution_count": null,
      "outputs": []
    }
  ]
}